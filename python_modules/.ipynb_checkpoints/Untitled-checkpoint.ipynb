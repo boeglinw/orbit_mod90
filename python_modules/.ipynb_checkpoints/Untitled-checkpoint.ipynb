{
 "cells": [
  {
   "cell_type": "code",
   "execution_count": 2,
   "metadata": {},
   "outputs": [],
   "source": [
    "import sympy as S"
   ]
  },
  {
   "cell_type": "code",
   "execution_count": 3,
   "metadata": {},
   "outputs": [],
   "source": [
    "# setup rotation matrices\n",
    "# rotation around x-axis by x\n",
    "Rx = lambda x: S.Matrix([[1,0,0],[0, S.cos(-x), -S.sin(-x)], [0, S.sin(-x), S.cos(-x)]])\n",
    "\n",
    "\n",
    "# rotation around y-axis by x\n",
    "Ry = lambda x: S.Matrix([[S.cos(x),0,-S.sin(x)],[0, 1, 0], [S.sin(x), 0 , S.cos(x)]])\n",
    "\n",
    "# rotation around z-acis by x\n",
    "Rz = lambda x: S.Matrix([[S.cos(x),-S.sin(x),0], [S.sin(x), S.cos(x), 0], [0, 0, 1]])\n",
    "\n",
    "\n",
    "# Total transformation from local detector system to local probe stsrem\n",
    "def T(t,p):\n",
    "    return Ry(t)*Rx(p)"
   ]
  },
  {
   "cell_type": "code",
   "execution_count": 4,
   "metadata": {},
   "outputs": [],
   "source": [
    "# velocity vector\n",
    "vx, vy, vz = S.symbols('v_x v_y v_z')\n",
    "v = S.Matrix([[vx, vy, vz]]).T"
   ]
  },
  {
   "cell_type": "code",
   "execution_count": 5,
   "metadata": {},
   "outputs": [
    {
     "data": {
      "text/latex": [
       "$\\displaystyle \\left[\\begin{matrix}-1\\\\0\\\\0\\end{matrix}\\right]$"
      ],
      "text/plain": [
       "Matrix([\n",
       "[-1],\n",
       "[ 0],\n",
       "[ 0]])"
      ]
     },
     "execution_count": 5,
     "metadata": {},
     "output_type": "execute_result"
    }
   ],
   "source": [
    "# calculate rotation matrices for special cases\n",
    "# examples\n",
    "\n",
    "vt = S.Matrix([0,0,1])   # unitvector along z-axis\n",
    "# example1\n",
    "theta = S.pi/2\n",
    "phi = 0\n",
    "T(theta, phi)*vt\n"
   ]
  },
  {
   "cell_type": "code",
   "execution_count": 6,
   "metadata": {},
   "outputs": [
    {
     "data": {
      "text/latex": [
       "$\\displaystyle \\left[\\begin{matrix}- \\frac{\\sqrt{2}}{2}\\\\\\frac{\\sqrt{2}}{2}\\\\0\\end{matrix}\\right]$"
      ],
      "text/plain": [
       "Matrix([\n",
       "[-sqrt(2)/2],\n",
       "[ sqrt(2)/2],\n",
       "[         0]])"
      ]
     },
     "execution_count": 6,
     "metadata": {},
     "output_type": "execute_result"
    }
   ],
   "source": [
    "theta = S.pi/2\n",
    "phi = S.pi/4\n",
    "T(theta, phi)*vt"
   ]
  },
  {
   "cell_type": "code",
   "execution_count": 7,
   "metadata": {},
   "outputs": [
    {
     "data": {
      "text/latex": [
       "$\\displaystyle \\left[\\begin{matrix}- \\frac{1}{2}\\\\\\frac{\\sqrt{2}}{2}\\\\\\frac{1}{2}\\end{matrix}\\right]$"
      ],
      "text/plain": [
       "Matrix([\n",
       "[     -1/2],\n",
       "[sqrt(2)/2],\n",
       "[      1/2]])"
      ]
     },
     "execution_count": 7,
     "metadata": {},
     "output_type": "execute_result"
    }
   ],
   "source": [
    "theta = S.pi/4\n",
    "phi = S.pi/4\n",
    "T(theta, phi)*vt"
   ]
  },
  {
   "cell_type": "code",
   "execution_count": 8,
   "metadata": {},
   "outputs": [],
   "source": [
    "theta = S.pi/4\n",
    "phi = S.pi/4\n",
    "T(theta, phi)*vt\n",
    "\n",
    "\n",
    "# transformation to overall coord. system\n",
    "theta = S.pi/4\n",
    "phi = S.pi/4\n",
    "vl = T(theta, phi)*vt # vector in local coordinate sysem\n",
    "\n",
    "v_g = Rz(S.pi/2)*vl"
   ]
  },
  {
   "cell_type": "code",
   "execution_count": null,
   "metadata": {},
   "outputs": [],
   "source": []
  }
 ],
 "metadata": {
  "kernelspec": {
   "display_name": "Python 3",
   "language": "python",
   "name": "python3"
  },
  "language_info": {
   "codemirror_mode": {
    "name": "ipython",
    "version": 3
   },
   "file_extension": ".py",
   "mimetype": "text/x-python",
   "name": "python",
   "nbconvert_exporter": "python",
   "pygments_lexer": "ipython3",
   "version": "3.8.5"
  }
 },
 "nbformat": 4,
 "nbformat_minor": 4
}
